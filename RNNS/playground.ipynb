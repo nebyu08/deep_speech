{
 "cells": [
  {
   "cell_type": "code",
   "execution_count": 1,
   "metadata": {},
   "outputs": [],
   "source": [
    "import numpy as np\n",
    "from model import RNN\n",
    "from data_model_rnn import data_model"
   ]
  },
  {
   "cell_type": "code",
   "execution_count": 2,
   "metadata": {},
   "outputs": [],
   "source": [
    "text=\"\"\"\n",
    "First Citizen:\n",
    "I say unto you, what he hath done famously, he did\n",
    "it to that end: though soft-conscienced men can be\n",
    "content to say it was for his country he did it to\n",
    "please his mother and to be partly proud; which he\n",
    "is, even till the altitude of his virtue.\n",
    "\n",
    "Second Citizen:\n",
    "What he cannot help in his nature, you account a\n",
    "vice in him. You must in no way say he is covetous.\n",
    "\"\"\""
   ]
  },
  {
   "cell_type": "code",
   "execution_count": 3,
   "metadata": {},
   "outputs": [
    {
     "ename": "KeyError",
     "evalue": "'\\n'",
     "output_type": "error",
     "traceback": [
      "\u001b[0;31m---------------------------------------------------------------------------\u001b[0m",
      "\u001b[0;31mKeyError\u001b[0m                                  Traceback (most recent call last)",
      "Cell \u001b[0;32mIn[3], line 1\u001b[0m\n\u001b[0;32m----> 1\u001b[0m one_encode\u001b[38;5;241m=\u001b[39m\u001b[43mdata_model\u001b[49m\u001b[43m(\u001b[49m\u001b[43mtext\u001b[49m\u001b[43m)\u001b[49m\n\u001b[1;32m      2\u001b[0m \u001b[38;5;28mprint\u001b[39m(one_encode)\n",
      "File \u001b[0;32m~/Documents/github_repos/speech_reco_imp/deep_speech/RNNS/data_model_rnn.py:21\u001b[0m, in \u001b[0;36mdata_model\u001b[0;34m(input_string)\u001b[0m\n\u001b[1;32m     19\u001b[0m     char_encode\u001b[38;5;241m=\u001b[39m[]\n\u001b[1;32m     20\u001b[0m     char_encode\u001b[38;5;241m=\u001b[39mnp\u001b[38;5;241m.\u001b[39mzeros((\u001b[38;5;28mlen\u001b[39m(string\u001b[38;5;241m.\u001b[39mascii_lowercase),\u001b[38;5;241m1\u001b[39m))\n\u001b[0;32m---> 21\u001b[0m     char_encode[\u001b[43mchar_index\u001b[49m\u001b[43m[\u001b[49m\u001b[43mi\u001b[49m\u001b[43m]\u001b[49m]\u001b[38;5;241m=\u001b[39m\u001b[38;5;241m1\u001b[39m\n\u001b[1;32m     22\u001b[0m     index_embed\u001b[38;5;241m.\u001b[39mappend(char_encode)\n\u001b[1;32m     23\u001b[0m \u001b[38;5;28;01mreturn\u001b[39;00m index_embed\n",
      "\u001b[0;31mKeyError\u001b[0m: '\\n'"
     ]
    }
   ],
   "source": [
    "one_encode=data_model(text)\n",
    "print(one_encode)"
   ]
  },
  {
   "cell_type": "code",
   "execution_count": 7,
   "metadata": {},
   "outputs": [
    {
     "ename": "IndexError",
     "evalue": "list index out of range",
     "output_type": "error",
     "traceback": [
      "\u001b[0;31m---------------------------------------------------------------------------\u001b[0m",
      "\u001b[0;31mIndexError\u001b[0m                                Traceback (most recent call last)",
      "Cell \u001b[0;32mIn[7], line 3\u001b[0m\n\u001b[1;32m      1\u001b[0m li\u001b[38;5;241m=\u001b[39m[]\n\u001b[1;32m      2\u001b[0m \u001b[38;5;28;01mfor\u001b[39;00m i \u001b[38;5;129;01min\u001b[39;00m \u001b[38;5;28mrange\u001b[39m(\u001b[38;5;241m100\u001b[39m):\n\u001b[0;32m----> 3\u001b[0m     \u001b[43mli\u001b[49m\u001b[43m[\u001b[49m\u001b[43mi\u001b[49m\u001b[43m]\u001b[49m\u001b[38;5;241m.\u001b[39mappend(i)\n",
      "\u001b[0;31mIndexError\u001b[0m: list index out of range"
     ]
    }
   ],
   "source": [
    "li=[]\n",
    "for i in range(100):\n",
    "    li[i].append(i)"
   ]
  },
  {
   "cell_type": "code",
   "execution_count": 8,
   "metadata": {},
   "outputs": [
    {
     "data": {
      "text/plain": [
       "90"
      ]
     },
     "execution_count": 8,
     "metadata": {},
     "output_type": "execute_result"
    }
   ],
   "source": [
    "p['id']"
   ]
  },
  {
   "cell_type": "code",
   "execution_count": null,
   "metadata": {},
   "outputs": [],
   "source": []
  }
 ],
 "metadata": {
  "kernelspec": {
   "display_name": "Python 3 (ipykernel)",
   "language": "python",
   "name": "python3"
  },
  "language_info": {
   "codemirror_mode": {
    "name": "ipython",
    "version": 3
   },
   "file_extension": ".py",
   "mimetype": "text/x-python",
   "name": "python",
   "nbconvert_exporter": "python",
   "pygments_lexer": "ipython3",
   "version": "3.8.19"
  }
 },
 "nbformat": 4,
 "nbformat_minor": 4
}
