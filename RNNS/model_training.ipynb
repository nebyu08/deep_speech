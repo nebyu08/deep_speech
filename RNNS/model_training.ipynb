{
 "cells": [
  {
   "cell_type": "code",
   "execution_count": 5,
   "id": "05aa0e02-0975-4d48-8895-1c99eb086364",
   "metadata": {},
   "outputs": [
    {
     "name": "stdout",
     "output_type": "stream",
     "text": [
      "The autoreload extension is already loaded. To reload it, use:\n",
      "  %reload_ext autoreload\n"
     ]
    }
   ],
   "source": [
    "%load_ext autoreload\n",
    "%autoreload 2"
   ]
  },
  {
   "cell_type": "code",
   "execution_count": 6,
   "id": "26232ae3-b778-4207-881f-41dfe2239a48",
   "metadata": {},
   "outputs": [],
   "source": [
    "from model import Model\n",
    "from data_model_rnn import data_model"
   ]
  },
  {
   "cell_type": "code",
   "execution_count": 7,
   "id": "a9e04437-6c24-4784-bfb3-c7f696ce0098",
   "metadata": {},
   "outputs": [],
   "source": [
    "sample_text=\"\"\"What authority surfeits on would relieve us: if they\"\"\""
   ]
  },
  {
   "cell_type": "code",
   "execution_count": 11,
   "id": "62ae7d27-f660-49fb-b0aa-4aa7d81c03c1",
   "metadata": {},
   "outputs": [
    {
     "ename": "KeyError",
     "evalue": "' '",
     "output_type": "error",
     "traceback": [
      "\u001b[0;31m---------------------------------------------------------------------------\u001b[0m",
      "\u001b[0;31mKeyError\u001b[0m                                  Traceback (most recent call last)",
      "Cell \u001b[0;32mIn[11], line 1\u001b[0m\n\u001b[0;32m----> 1\u001b[0m encoded_sample\u001b[38;5;241m=\u001b[39m\u001b[43mdata_model\u001b[49m\u001b[43m(\u001b[49m\u001b[43msample_text\u001b[49m\u001b[43m)\u001b[49m\n",
      "File \u001b[0;32m~/Documents/github_repos/speech_reco_imp/deep_speech/RNNS/data_model_rnn.py:32\u001b[0m, in \u001b[0;36mdata_model\u001b[0;34m(input_string)\u001b[0m\n\u001b[1;32m     30\u001b[0m         char_encode\u001b[38;5;241m=\u001b[39m[]\n\u001b[1;32m     31\u001b[0m         char_encode\u001b[38;5;241m=\u001b[39mnp\u001b[38;5;241m.\u001b[39mzeros((\u001b[38;5;28mlen\u001b[39m(string\u001b[38;5;241m.\u001b[39mascii_lowercase),\u001b[38;5;241m1\u001b[39m))\n\u001b[0;32m---> 32\u001b[0m         char_encode[\u001b[43mchar_index\u001b[49m\u001b[43m[\u001b[49m\u001b[43mchar\u001b[49m\u001b[43m]\u001b[49m]\u001b[38;5;241m=\u001b[39m\u001b[38;5;241m1\u001b[39m\n\u001b[1;32m     33\u001b[0m         index_embed\u001b[38;5;241m.\u001b[39mappend(char_encode)\n\u001b[1;32m     35\u001b[0m \u001b[38;5;28;01mreturn\u001b[39;00m index_embed\n",
      "\u001b[0;31mKeyError\u001b[0m: ' '"
     ]
    }
   ],
   "source": [
    "encoded_sample=data_model(sample_text)"
   ]
  },
  {
   "cell_type": "code",
   "execution_count": 9,
   "id": "8ce81765-9439-4b59-a8de-8b5f5c9e38ba",
   "metadata": {},
   "outputs": [
    {
     "name": "stdout",
     "output_type": "stream",
     "text": [
      "W\n"
     ]
    }
   ],
   "source": [
    "for i in sample_text:\n",
    "    print(i[:20])\n",
    "    break"
   ]
  },
  {
   "cell_type": "code",
   "execution_count": null,
   "id": "82898286-42e9-48ad-9fa9-e822dc7e6979",
   "metadata": {},
   "outputs": [],
   "source": [
    "p=\"there are ma"
   ]
  }
 ],
 "metadata": {
  "kernelspec": {
   "display_name": "Python 3 (ipykernel)",
   "language": "python",
   "name": "python3"
  },
  "language_info": {
   "codemirror_mode": {
    "name": "ipython",
    "version": 3
   },
   "file_extension": ".py",
   "mimetype": "text/x-python",
   "name": "python",
   "nbconvert_exporter": "python",
   "pygments_lexer": "ipython3",
   "version": "3.8.19"
  }
 },
 "nbformat": 4,
 "nbformat_minor": 5
}
